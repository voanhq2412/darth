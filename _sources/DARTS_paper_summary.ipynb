{
 "cells": [
  {
   "cell_type": "markdown",
   "id": "31468a8b",
   "metadata": {},
   "source": [
    "The performance of Machine Learning models are highly dependent on their hyperparameters. NN’s flexibility also means that there are more hyperparameters to tune, which may involve deciding the number of layers and the number of nodes per layer; tweaking these two hyperparameters can also be refered to as tweaking the architecture of the network. "
   ]
  },
  {
   "cell_type": "markdown",
   "id": "e1abead8",
   "metadata": {},
   "source": [
    "Machine Learning models can be tweaked through trial and error, combined with intuition and experience. To be more precise and rigorous, one can model the architecture search problem as a discrete optimization problem. However, discrete optimization is much harder than continuous optimization, many NP-hard problems fall within this category. \n",
    "\n",
    "Reinforcement Learning and Evolutionary Algorithms have been applied to search for good solutions to the discrete problem however they require a lot of computational resource. By modelling the problem as a continuous optimization problem, DARTS produce highly competive results in much less time when compared to the aforementioned non-differentiable search techniques."
   ]
  },
  {
   "cell_type": "markdown",
   "id": "8892f3b6-3de3-4231-801d-df4b38f425d2",
   "metadata": {},
   "source": [
    "### Convolutional Network Architecture"
   ]
  },
  {
   "cell_type": "markdown",
   "id": "aaa24e9b-56bb-4cf3-b5c5-2293ab4625c0",
   "metadata": {},
   "source": [
    "![alt](cnn-architecture.png)"
   ]
  },
  {
   "cell_type": "markdown",
   "id": "46b11968-0fa0-41f0-a560-8f3107bafaea",
   "metadata": {},
   "source": [
    "- The first part of the CNN is basically 'feature extraction', where convolutional filters (to extract feature(s) from the input) and pooling (to reduce the dimensions) are applied. These are repeated N number of times sequentially depending on the problem.\n",
    "- In the second part, output from the first part is flattened and fed into the usual artificial neural network for classification. "
   ]
  },
  {
   "cell_type": "markdown",
   "id": "a3481909-e37f-4899-80fa-d59aa05bd332",
   "metadata": {},
   "source": [
    "## DARTS overview\n",
    "\n",
    "DARTS optimizes one convolutional cell at a time. More precisely, it looks for the optimal sequence of operations within each cell. But what is a cell? \n",
    "\n",
    "In DARTS, a cell basically takes inputs from the 2 previous layers, apply convolutional filters, pooling, concat and output to the next layer. The concatenation step is always at the end before obtaining the output. However, we want to search for the optimal selection and sequence of operations for the rest of the cell so our equations should incoporate some flexibility to allow for all the possible combinations. \n",
    "\n",
    "\n",
    "![alt](nodes_sequence.jpg)\n",
    "- Within a cell, each intermediate node is computed based on all of the previous nodes.<br><br><br>\n"
   ]
  },
  {
   "cell_type": "markdown",
   "id": "859d0b58",
   "metadata": {},
   "source": [
    "![alt](operation_weights.jpg)\n",
    "- Within each node, we assign probabilities to all the possible operations and select the operation with the highest probablity. This is how we turn the architecture search from a discrete into a continuous optimization problem.\n"
   ]
  },
  {
   "cell_type": "markdown",
   "id": "49565ca5",
   "metadata": {},
   "source": [
    "1) Each of the $\\alpha$ stands for the mixing weight of an operation $o(x)$. So for operation $o_1$ we would have weight $\\alpha_1$, for operation $o_2$ we have $\\alpha_2$, so on and so forth. \n",
    "2) We divide the $exp^{weight}$ of a given operation by the sum of all $exp^{weight}$ to obtain the probability of that operation being selected.\n",
    "3) Also within each operation $o(x)$ we have the weights of the convolutional filter, for a 3x3x3 filter that would be 27 weights. \n",
    "4) We optimize the mixing weights of the operations and the convolutional weights with bilevel optimisation, such that the validation loss is minimized. "
   ]
  },
  {
   "cell_type": "markdown",
   "id": "26a3b894-d7eb-4248-907a-134526f7e7b1",
   "metadata": {},
   "source": [
    "![alt](DARTS_cell.jpeg)"
   ]
  },
  {
   "cell_type": "markdown",
   "id": "3dcc662c-42c7-4f45-9729-938405b7ae46",
   "metadata": {},
   "source": [
    "## Optimization Methodology and Approximation\n",
    "\n",
    "Given a chosen architecture, to obtain the best CNN possible we'd still have to optimize the weights of our convolutional filters. Thus the outer optimization problem is one of choosing the optimal operations for a cell, the inner optimization problem is one of choosing the optimal weights for our convolutional filters. The outer problem is constrained by the inner problem.\n",
    "\n",
    "The bilevel optimization is formulated as:<br>\n",
    "$\\underset{\\alpha}{min} \\ \\ L_{val} (w^*(\\alpha),\\alpha)$<br>\n",
    "$s.t  \\ \\ \\ \\ w^*(\\alpha) = \\underset{w}{argmin} \\ L_{train} (w,\\alpha)$"
   ]
  },
  {
   "cell_type": "markdown",
   "id": "4dbb7e42-90e7-4a6d-b081-05a9338bb768",
   "metadata": {},
   "source": [
    "Mathematically, we could solve it using gradient descent ...\n",
    "\n",
    "1) Given a random starting architecture $\\alpha$, we want to search for the next best architecture $\\alpha'$. Performing this improving search until convergence is the outer optimization problem. <br>\n",
    "$\\alpha' = \\alpha - \\lambda \\nabla_{\\alpha} L_{val}(w*,\\alpha) \\ $, where $w*$, the optimal weights of the architecture, is fixed<br>\n",
    "\n",
    "2) However, to obtain the optimal $w*$, we'd have to solve the inner optimization problem as well, updating w with ...<br>\n",
    "$w' = w - \\xi \\nabla_w L_{train}(w,\\alpha) \\ \\ \\ $, where $\\alpha$ is fixed<br>\n",
    "\n",
    "For such a bilevel problem, for every $\\alpha$ iterate we'd have to solve the inner optimization problem to obtain $w*$ such that $L_{train}$ is minimized, then we return to update the $\\alpha$ for the outer problem. After that, we begin to search for a new set of optimal weights for the inner problem again given the new architecture. This procedure can be very time-consuming and impractical. <br>\n",
    "\n",
    "In addition, the inner problem and outer problem each by themselves is a nonconvex problem. Solving a non-convex problem to global convergence is already difficult so with a bilevel non-convex problem the difficulty is twofold.\n",
    "___"
   ]
  },
  {
   "cell_type": "markdown",
   "id": "6a49b0eb-5217-4d26-bea5-4676c94e0fca",
   "metadata": {},
   "source": [
    "\n",
    "To reduce the difficulty, the author proposed to update the outer weights $\\alpha$ through an approximation scheme ... <br><br>\n",
    "$\\nabla_\\alpha L_{val} (w^*(a),a) \\approx \\nabla_\\alpha L_{val} (w - \\xi \\nabla_w L_{train}(w,\\alpha),a)$ <br>\n",
    "\n",
    "- Rather than optimizing w to convergence then updating $\\alpha$, we update both w and $\\alpha$ in one step. (this basically reduces the bilevel program to a single-level program)\n",
    "- Trading accuracy for speed means that we may (prematurely) move on to different architecture before knowing how much the current architecture with its optimal weights can minimize the validation loss. \n",
    "- As a result, the overall problem may not even reach a local optima. (however, the authors say that they're able to reach a fixed point with a suitable value of $\\xi$)\n",
    "\n",
    "https://arxiv.org/pdf/1909.09656.pdf argues that this is not the cause of failure of the DARTS, the validation error progresses very well.\n",
    "___\n"
   ]
  },
  {
   "cell_type": "markdown",
   "id": "98e0e5de-7a17-499b-a4a1-d1cb2a886f11",
   "metadata": {},
   "source": [
    "By realizing that $w'$ is a function of $\\alpha$, we can include one additional gradient term to improve the approximation.\n",
    "\n",
    "$\\nabla_x f(g(x),x) = \\nabla_x f(g(x),x) + \\nabla_{g(x)} f(g(x),x) . \\nabla_x g(x)$\n",
    "\n",
    "Thus:<br>\n",
    "$\\nabla_\\alpha L_{val} (w',a) \\approx \\nabla_\\alpha L_{val} (w' ,a) - \\nabla_{\\alpha} w' . \\nabla_{w'} L_{val}(w',\\alpha) \\ \\ \\ \\ $<br>\n",
    "$\\nabla_\\alpha L_{val} (w',a) \\approx \\nabla_\\alpha L_{val} (w' ,a) - \\xi \\nabla^2_{w\\alpha} L_{train}(w,\\alpha). \\nabla_{w'} L_{val}(w',\\alpha) \\ \\ \\ \\ $<br>\n",
    "\n",
    "where ...<br>\n",
    "$w' = w - \\xi \\nabla_w L_{train}(w,\\alpha) $<br>\n",
    "\n",
    "$\\nabla_\\alpha w' = - \\xi \\nabla^2_{w\\alpha} L_{train}(w,\\alpha)$<br><br>\n",
    "\n",
    "\n",
    "$\\nabla^2_{w\\alpha} L_{train}(w,\\alpha)$ is a matrix of second-order derivatives that is very expensive to compute. Finite difference is applied to approximate this term."
   ]
  },
  {
   "cell_type": "markdown",
   "id": "b3262a99-c820-4ece-a952-3b42e07e6f42",
   "metadata": {},
   "source": [
    "#### Central Difference\n",
    "\n",
    "$f'(x) \\approx \\dfrac{f(x+h) - f(x-h)}{2h}$, as h --> 0 \n",
    "\n",
    "$\\nabla^2_{w\\alpha} L_{train}(w,\\alpha) = \\dfrac{\\nabla_{\\alpha}L_{train}(w+h,\\alpha) - \\nabla_{\\alpha}L_{train}(w-h,\\alpha)}{2h}$ \n",
    "\n",
    "let $\\epsilon$ be a small scalar and $h = \\epsilon\\nabla_{w'} L_{val}(w',\\alpha) $\n",
    "\n",
    "$\\nabla^2_{w\\alpha} L_{train}(w,\\alpha). \\nabla_{w'} L_{val}(w',\\alpha) = \\dfrac{\\nabla_{\\alpha}L_{train}(w+\\epsilon\\nabla_{w'} L_{val}(w',\\alpha),\\alpha) - \\nabla_{\\alpha}L_{train}(w-\\epsilon\\nabla_{w'} L_{val}(w',\\alpha),\\alpha)}{2\\epsilon\\nabla_{w'} L_{val}(w',\\alpha),\\alpha)} .\\nabla_{w'} L_{val}(w',\\alpha),\\alpha)$ \n",
    "$\\qquad \\qquad \\qquad \\qquad \\qquad \\qquad = \\dfrac{\\nabla_{\\alpha}L_{train}(w+\\epsilon\\nabla_{w'} L_{val}(w',\\alpha),\\alpha) - \\nabla_{\\alpha}L_{train}(w-\\epsilon\\nabla_{w'} L_{val}(w',\\alpha),\\alpha)}{2\\epsilon} $ "
   ]
  },
  {
   "cell_type": "markdown",
   "id": "99235ee9-7414-408a-a8a2-931fed392f65",
   "metadata": {},
   "source": [
    "## Deriving Discrete Architecture "
   ]
  },
  {
   "cell_type": "markdown",
   "id": "d27d4514-f3e9-40d0-91f5-496da8f2dede",
   "metadata": {},
   "source": [
    "To discretize the architecture:\n",
    "- We pick the most likely operation o(x) for each edge. \n",
    "- For each node, we pick the top k operations with the highest weights such that for each node there can only be k incoming edges. This can be considered a pruning step that removes weak operations. "
   ]
  },
  {
   "cell_type": "markdown",
   "id": "0878b498-e620-4e05-a478-4a766fa081bb",
   "metadata": {},
   "source": [
    "Requirement for Master Thesis: \n",
    "- Main aim is to learn , not to create something new\n",
    "- Literature Review: Do a survey of recent papers/methods related to differentiable search, pick one paper/method and implement it on a different/new dataeset\n",
    "- Optimiztation algo is not main focus for differentiable search: focus on approximation\n"
   ]
  },
  {
   "cell_type": "markdown",
   "id": "d2f6c028-0d91-46a2-b88b-b30e94f44e88",
   "metadata": {},
   "source": [
    "# Recent variants of DARTS \n",
    "\n",
    "Recent papers have been dedicated to avoid overfiting of DARTS to make it more robust."
   ]
  },
  {
   "cell_type": "markdown",
   "id": "2bfdd8fe-2ad3-44e8-bb51-83fd855d1965",
   "metadata": {},
   "source": [
    "| Name | Pros | Cons |\n",
    "| --- | --- | --- |\n",
    "| DARTS | Default | 1) Weak-robustness, prone to performance collapse <br> because it accumulates paramter-free operations (especially skip-connections) (also, operations with fewer parameters are trained to optimality more quickly etc 3x3 kernels converge faster than 5x5 kernels and thus more likely to be picked in the final architecture <br> 2) Poor generalization of searched architecture due to overfitting | \n",
    "| DARTS+ | 1) Simple early stopping rule leads to performance increase over original DARTS. ie. the search is terminated once a certain number of skip connections have accumulated <br> 2) Prevents the build up of skip connections to avoid performance collapse  | 1) Early stopping rule may be considered arbitary and it may mistakenly rejects good architectures. | \n",
    "| R-DARTS | 1) Early stopping if the hessian's largest eigenvalue of the inner objective gets too large.<br> 2) L2 regularization of the inner objective to control the eigenvalue.  | 1) Keeping track of the eigenvalue of the hessian can be costly. <br> 2) Reliance on the quality of the early stopping indicator.  | \n",
    "| DROP-NAS | 1) Dropping operations randomly so that operations with more parameters will be more likely to be in the final architecture. This reduces DARTS tendency to pick operations with less parameters because it takes less time for their weights to converege <br> 2) Operations are categorized into parameter vs non-parameter group and operations are dropped such that at least one operation remains in each group. | 1) Randomization may lead to not picking the best operation for a given edge<br> 2) Extra parameter that requires tuning <br> 3) In the end, an edge still has to pick between a parameter operation and non-parameter operation. We know that DARTS tend to pick non-parameter operations, this could be a problem here. | \n",
    "| P-DARTS | 1) Progressively increase the network depth during search process so that by the end of it, the architecture is close to that which is used in evaluation, and thus provides better performance.<br> 2) Dropping operations to prevent overfitting and to increase speed| \"Arbitary\" dropping rules: Dropping operations for search-space approximation based on low weights (to prevent computational overhead associated with progressive search) and also operations dropout (to restrict the number of parameter-free operations) <br> | aaaa |\n",
    "| Single-DARTS | 1) Formulate the optimization problem as a single-level optimization problem. Other papers have formulated the problem as a bi-level optimization problem but solved it approximately with a single-level problem anyways. One thus can argue that formulating it as a bi-level problem is redundant.<br> 2) good theoretical foundation, and simpler to implement the the bi-level problem<br> 3) Updates $\\alpha$ ad w on the same batch of data | |"
   ]
  },
  {
   "cell_type": "markdown",
   "id": "a7ca6512-056a-4ee1-87d4-247ff03b236f",
   "metadata": {},
   "source": [
    "Most papers (such as R-Darts) proposes the L2 regularization of the architecture mixing weight $\\alpha$. L2 helps to make the model more sparse and exclude unimportant features.\n",
    "\n",
    "The bilevel optimization is formulated as:<br>\n",
    "$min_{\\alpha} \\ \\ L_{val} (w^*(a),a) + \\dfrac{r}{2}. a^T.a$<br> \n",
    "$s.t  \\ \\ \\ \\ \\ w^*(a) = argmin_{w} \\ L_{train} (w,a)$\n",
    "\n",
    "Gradient update<br>\n",
    "$\\alpha' = \\alpha - \\lambda \\{ \\nabla_{\\alpha} L_{val}(w*,\\alpha) + r. \\alpha   \\} \\ \\ \\ \\ $ <br> \n",
    "\n",
    "where w*, the optimal weights of the architecture, is fixed;<br>\n",
    "and r = regularization factor<br>\n"
   ]
  },
  {
   "cell_type": "code",
   "execution_count": null,
   "id": "2a02d54f-fdaa-4963-abb5-12cb504a17f6",
   "metadata": {},
   "outputs": [],
   "source": []
  },
  {
   "cell_type": "markdown",
   "id": "d5a5c423-dffb-48d5-b1c0-c5c696e90dea",
   "metadata": {},
   "source": [
    "# iDARTS"
   ]
  },
  {
   "cell_type": "markdown",
   "id": "bea9bf19-6f8a-471b-82d6-6e90a3e5a873",
   "metadata": {
    "citation-manager": {
     "citations": {
      "": []
     }
    }
   },
   "source": [
    "iDARTS <cite data-cite=\"zhang2021idarts\"></cite>"
   ]
  },
  {
   "cell_type": "markdown",
   "id": "9541a77d-560a-47d7-95d0-2230481d7cac",
   "metadata": {},
   "source": [
    "{cite}`zhang2021idarts`"
   ]
  },
  {
   "cell_type": "markdown",
   "id": "15aac5f0-f85c-44cc-b3ff-f5a218d8f36b",
   "metadata": {},
   "source": [
    "as metnioned in \n",
    "\n",
    "<!-- BIBLIOGRAPHY START -->\n",
    "<div class=\"csl-bib-body\">\n",
    "</div>\n",
    "<!-- BIBLIOGRAPHY END -->"
   ]
  },
  {
   "cell_type": "code",
   "execution_count": null,
   "id": "5802bf67-f326-4bad-8b05-67b75af9765e",
   "metadata": {},
   "outputs": [],
   "source": []
  }
 ],
 "metadata": {
  "citation-manager": {
   "items": {}
  },
  "kernelspec": {
   "display_name": "Python 3 (ipykernel)",
   "language": "python",
   "name": "python3"
  },
  "language_info": {
   "codemirror_mode": {
    "name": "ipython",
    "version": 3
   },
   "file_extension": ".py",
   "mimetype": "text/x-python",
   "name": "python",
   "nbconvert_exporter": "python",
   "pygments_lexer": "ipython3",
   "version": "3.7.13"
  }
 },
 "nbformat": 4,
 "nbformat_minor": 5
}
