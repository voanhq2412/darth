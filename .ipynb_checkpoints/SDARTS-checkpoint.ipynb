{
 "cells": [
  {
   "cell_type": "markdown",
   "id": "f88cac59-3667-492e-a8dd-7afea63a6404",
   "metadata": {},
   "source": [
    "# SDARTS"
   ]
  },
  {
   "cell_type": "markdown",
   "id": "319d9332-ed84-4095-b1e4-35f063ff3037",
   "metadata": {},
   "source": [
    "The Smooth-DARTS (SDARTS) {cite:p}`DBLP:journals/corr/abs-2002-05283` builds upon the empirical results of {cite:p}`DBLP:journals/corr/abs-1909-09656`. The authors show mathematically why the performance drop of the architecture parameter discretization step is correlated with the Hessian norm.\n",
    "\n",
    "In particular, let $(w^*,\\alpha^*)$ be the values that minimizes the validation loss in the continuous space and $\\bar{\\alpha}$ the architecture parameter after discretizing $\\alpha^*$. Using the Taylor series:<br>\n",
    "\n",
    "$L_{val}(w^*,\\bar{\\alpha}) = L_{val}(w^*,\\alpha^*) + (\\bar{\\alpha} - \\alpha^*).\\nabla_{\\alpha}L_{val}(w^*,\\alpha^*) + (\\bar{\\alpha} - \\alpha^*)^T.\\nabla^2_{\\alpha\\alpha}L_{val}(w^*,\\alpha^*).(\\bar{\\alpha} - \\alpha^*)$"
   ]
  },
  {
   "cell_type": "markdown",
   "id": "b0fc166f-760c-4e96-b414-c24fc4b58b46",
   "metadata": {},
   "source": [
    "Because of optimality condition: $\\nabla_{\\alpha}L_{val}(w^*,\\alpha^*) = 0 $<br>\n",
    "\n",
    "$L_{val}(w^*,\\bar{\\alpha}) = L_{val}(w^*,\\alpha^*) +(\\bar{\\alpha} - \\alpha^*)^T.\\nabla^2_{\\alpha\\alpha}L_{val}(w^*,\\alpha^*).(\\bar{\\alpha} - \\alpha^*)$<br>\n",
    "\n",
    "Thus the performance drop is bounded by:<br>\n",
    "$C = ||\\nabla^2_{\\alpha\\alpha}L_{val}(w^*,\\alpha^*)||.||\\bar{\\alpha} - \\alpha^*||^2 $\n",
    "\n",
    "After tuning the weights given $\\bar{\\alpha}$, we obtain $L_{val}(\\bar{w},\\bar{\\alpha})$ which will be smaller than $L_{val}(w^*,\\bar{\\alpha})$, and thus is also bounded by $C$."
   ]
  },
  {
   "cell_type": "code",
   "execution_count": null,
   "id": "a9b1a2a4-7622-4780-8eb2-578d22fe0639",
   "metadata": {},
   "outputs": [],
   "source": []
  }
 ],
 "metadata": {
  "kernelspec": {
   "display_name": "Python 3 (ipykernel)",
   "language": "python",
   "name": "python3"
  },
  "language_info": {
   "codemirror_mode": {
    "name": "ipython",
    "version": 3
   },
   "file_extension": ".py",
   "mimetype": "text/x-python",
   "name": "python",
   "nbconvert_exporter": "python",
   "pygments_lexer": "ipython3",
   "version": "3.8.15"
  }
 },
 "nbformat": 4,
 "nbformat_minor": 5
}
