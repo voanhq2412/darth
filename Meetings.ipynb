{
 "cells": [
  {
   "cell_type": "markdown",
   "id": "59aa2e3c-3690-4c41-af2c-444ceaddc424",
   "metadata": {},
   "source": [
    "Meeting 6th Feb 2023\n",
    "- Need to learn Pytorch and successfully run DARTS/iDARTS code before commiting on thesis topic.\n",
    "- Thesis Ideas:\n",
    "  1) Different Hessian approximation methods for iDARTS\n",
    "  2) Relationship between Hessian w.r.t $w$ & Hessian w.r.t $\\alpha$"
   ]
  },
  {
   "cell_type": "code",
   "execution_count": null,
   "id": "7fa6418a-ee5e-4bc9-9167-e6fc8c656264",
   "metadata": {},
   "outputs": [],
   "source": []
  }
 ],
 "metadata": {
  "kernelspec": {
   "display_name": "Python 3 (ipykernel)",
   "language": "python",
   "name": "python3"
  },
  "language_info": {
   "codemirror_mode": {
    "name": "ipython",
    "version": 3
   },
   "file_extension": ".py",
   "mimetype": "text/x-python",
   "name": "python",
   "nbconvert_exporter": "python",
   "pygments_lexer": "ipython3",
   "version": "3.8.15"
  }
 },
 "nbformat": 4,
 "nbformat_minor": 5
}
