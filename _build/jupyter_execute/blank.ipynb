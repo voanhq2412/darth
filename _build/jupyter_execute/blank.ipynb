{
 "cells": [
  {
   "cell_type": "markdown",
   "id": "82af221a-5e59-4eaf-88eb-e090e21f6492",
   "metadata": {},
   "source": [
    "# Next Chapter"
   ]
  },
  {
   "cell_type": "code",
   "execution_count": null,
   "id": "f0c17faf-f9d0-493e-b656-584d2953e239",
   "metadata": {},
   "outputs": [],
   "source": []
  }
 ],
 "metadata": {
  "kernelspec": {
   "display_name": "Python 3 (ipykernel)",
   "language": "python",
   "name": "python3"
  },
  "language_info": {
   "codemirror_mode": {
    "name": "ipython",
    "version": 3
   },
   "file_extension": ".py",
   "mimetype": "text/x-python",
   "name": "python",
   "nbconvert_exporter": "python",
   "pygments_lexer": "ipython3",
   "version": "3.8.15"
  }
 },
 "nbformat": 4,
 "nbformat_minor": 5
}