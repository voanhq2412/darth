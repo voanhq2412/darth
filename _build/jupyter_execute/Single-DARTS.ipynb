{
 "cells": [
  {
   "cell_type": "markdown",
   "id": "3a6847b1-1d5d-4572-aeb9-3b87a5c29351",
   "metadata": {},
   "source": [
    "# Single-DARTS"
   ]
  },
  {
   "cell_type": "markdown",
   "id": "e5d6d450-4d19-42b2-9ebf-95afa99ab36e",
   "metadata": {},
   "source": [
    "The original DARTS is formulated as an approximation to a bilevel optimization problem. It updates the network weights on the training set and updates the architecture parameters on the validation set. Due to this, the learnable operations (convolution) will simply be learning noise in the early stages of the training due to the **independence of these different batches** {cite:p}`DBLP:journals/corr/abs-2108-08128`. The non-learnable operations will dominate and the performance collapse of the DARTS will thus be irreversable. "
   ]
  },
  {
   "cell_type": "markdown",
   "id": "b4f332e1-d439-48e5-87c4-7fdb932e2c56",
   "metadata": {},
   "source": [
    "The author proposes to update the $w$ and $\\alpha$ on the same batch of data and shows that this will lead to much better and also more stable performance.<br>\n",
    "$\\alpha, w \\  -= \\xi \\nabla_{\\alpha,w} L_{train} (\\alpha,w)$"
   ]
  },
  {
   "cell_type": "code",
   "execution_count": null,
   "id": "bfed4437-914d-4acc-ba6a-7e7905245dec",
   "metadata": {},
   "outputs": [],
   "source": []
  }
 ],
 "metadata": {
  "kernelspec": {
   "display_name": "Python 3 (ipykernel)",
   "language": "python",
   "name": "python3"
  },
  "language_info": {
   "codemirror_mode": {
    "name": "ipython",
    "version": 3
   },
   "file_extension": ".py",
   "mimetype": "text/x-python",
   "name": "python",
   "nbconvert_exporter": "python",
   "pygments_lexer": "ipython3",
   "version": "3.8.15"
  }
 },
 "nbformat": 4,
 "nbformat_minor": 5
}