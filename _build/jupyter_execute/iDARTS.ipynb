{
 "cells": [
  {
   "cell_type": "markdown",
   "id": "b079e1e2-fb10-4bc2-b599-15d5618b2f06",
   "metadata": {},
   "source": [
    "# iDARTS "
   ]
  },
  {
   "cell_type": "markdown",
   "id": "2a5df0cb-afa2-4d7c-a7d5-4e289347dcaf",
   "metadata": {},
   "source": [
    "Unlike some recent papers that have proposed regularization approaches for the DARTS, the iDARTS {cite:p}`zhang2021idarts` proposes a different way to compute the outer-loop gradient based on the implicit function theorem.<br> \n",
    "\n",
    "The Amended-DARTS {cite:p}`bi2020stabilizing` has actually arrived at the same outer-loop gradient (hypergradient) formula, stating that the gradient approximation in the original DARTS has been inaccurate. {cite:p}`bi2020stabilizing` have replaced the inverse Hessian with the Hessian itself in the formula to make computation more tractable however calculating the Hessian is still costly and it takes more time for the Amended-DARTS to reach optimality. Replacing the inverse Hessian within Hessian is also not a good approximation.\n",
    "\n",
    "The iDARTS on the other hand, approximates the inverse Hessian and thus reduces the computational cost of the Amended-DARTS, as well as provides better results.\n",
    "\n",
    "From the Original DARTS we had: <br>\n",
    "$\\nabla_\\alpha L_{val} (w^*(a),a) \\approx \\nabla_\\alpha L_{val} (w - \\xi \\nabla_w L_{train}(w,\\alpha),a)$ <br>\n",
    "\n",
    "Ideally, we'd want the $w - \\xi \\nabla_w L_{train}(w,\\alpha)$ to be as close to the optimal $w^*(\\alpha)$ as possible however this is very unlikely because as a result of the approximation the weights of the inner loop get updated only once.\n"
   ]
  },
  {
   "cell_type": "markdown",
   "id": "86e027b7-c7b7-4097-b6c7-6c5883847584",
   "metadata": {},
   "source": [
    "However, if indeed $w ' = w - \\xi \\nabla_w L_{train}(w,\\alpha)$ was optimal then we would have the training loss gradient $\\nabla_{w} L_{train}(w^*,\\alpha) = 0$ {cite:p}`zhang2021idarts`"
   ]
  },
  {
   "cell_type": "markdown",
   "id": "09818a51-5470-4042-bbb5-576197e82340",
   "metadata": {},
   "source": [
    "Thus:<br>\n",
    "$ \\nabla^2_{w,\\alpha} L_{train}(w^*,\\alpha) = 0$<br>\n",
    "$ \\nabla_{w} (\\nabla_{\\alpha} L_{train}(w^*,\\alpha)) = 0$<br>\n",
    "$ \\nabla_{w} (\\nabla_{\\alpha} L_{train}(w^*,\\alpha) + \\nabla_{w} L_{train}(w^*,\\alpha). \\nabla_{\\alpha} w) = 0$<br>\n",
    "$ \\nabla^2_{w,\\alpha} L_{train}(w^*,\\alpha) + \\nabla^2_{w,w} L_{train}(w^*,\\alpha). \\nabla_{\\alpha} w = 0$<br>\n",
    "$\\nabla_{\\alpha} w = - \\big[\\nabla^2_{w,w} L_{train}(w^*,\\alpha)   \\big]^{-1} . \\nabla^2_{w,\\alpha} L_{train}(w^*,\\alpha)$<br>"
   ]
  },
  {
   "cell_type": "markdown",
   "id": "b81d9c64-0998-4215-a568-f56e6f574398",
   "metadata": {},
   "source": [
    "Because the inverse Hessian of the training loss w.r.t the weights is expensive to compute the authors have proposed to use the Neumann approximation approach {cite:p}`DBLP:journals/corr/abs-1911-02590`\n",
    "computed based on mini-batch samples. "
   ]
  },
  {
   "cell_type": "markdown",
   "id": "68ebd635-4c1f-4750-8666-187bc9de87c4",
   "metadata": {},
   "source": [
    "$\\big[\\nabla^2_{w,w} L_{train}(w^*,\\alpha)   \\big]^{-1} = \\underset{i \\to \\infty}{lim} \\overset{i}{\\underset{j=0}{\\sum}} \\big[ I - \\nabla^2_{w,w} L_{train}(w^*,\\alpha) \\big]^j    $"
   ]
  },
  {
   "cell_type": "markdown",
   "id": "8a3f8f55-4b17-48cc-9a7d-b11c67087fb3",
   "metadata": {},
   "source": [
    "By using only the first K terms of the Neumann series:<br>\n",
    "$\\nabla_\\alpha L_{val} (w',a) \\approx \\nabla_\\alpha L_{val} (w' ,a) - \\xi \\nabla^2_{w\\alpha} L_{train}(w,\\alpha). \\overset{K}{\\underset{j=0}{\\sum}} \\big[ I - \\xi \\nabla^2_{w,w} L_{train}(w^*,\\alpha) \\big]^j  . \\nabla_{w'} L_{val}(w',\\alpha) \\ \\ \\ \\ $<br>"
   ]
  },
  {
   "cell_type": "code",
   "execution_count": 1,
   "id": "c3428740-52b3-435d-817c-69dd5806201d",
   "metadata": {},
   "outputs": [],
   "source": [
    "import numpy as np\n",
    "from numpy.linalg import inv\n",
    "from numpy import linalg as LA"
   ]
  },
  {
   "cell_type": "code",
   "execution_count": 2,
   "id": "c49cb36d-19ef-4562-a90c-5c68446d87b4",
   "metadata": {},
   "outputs": [
    {
     "data": {
      "text/plain": [
       "(1.459229411118642,\n",
       " array([[-0.46990415, -3.70471549,  8.11896613],\n",
       "        [-9.30718464,  8.10625168, -0.77413482],\n",
       "        [ 7.28290496, -4.27425816, -1.43084164]]))"
      ]
     },
     "execution_count": 2,
     "metadata": {},
     "output_type": "execute_result"
    }
   ],
   "source": [
    "N = 3\n",
    "a = np.random.random((N,N))\n",
    "b = inv(a)\n",
    "np.max(LA.eig(a)[0]),b"
   ]
  },
  {
   "cell_type": "code",
   "execution_count": 3,
   "id": "ad2a0958-794b-415f-b8e9-a4b13ee5ee05",
   "metadata": {},
   "outputs": [
    {
     "data": {
      "text/plain": [
       "((126.3174746413699+0j),\n",
       " array([[-0.0170664 ,  0.05880986, -0.06530811],\n",
       "        [ 0.00715687, -0.02650302,  0.04658296],\n",
       "        [ 0.01668402,  0.00207029, -0.01405238]]))"
      ]
     },
     "execution_count": 3,
     "metadata": {},
     "output_type": "execute_result"
    }
   ],
   "source": [
    "N = 3\n",
    "a = 100*np.random.random((N,N))\n",
    "b = inv(a)\n",
    "np.max(LA.eig(a)[0]),b"
   ]
  },
  {
   "cell_type": "code",
   "execution_count": 4,
   "id": "20d758a3-8ec6-4d3a-b972-bdc716994b20",
   "metadata": {},
   "outputs": [
    {
     "data": {
      "text/plain": [
       "(14231.355537709951,\n",
       " array([[ 2.16246117e-03, -9.75949516e-04, -4.06264704e-04],\n",
       "        [-3.45531582e-04,  2.78670084e-04,  2.80231176e-05],\n",
       "        [-7.62258628e-04,  3.09354492e-04,  2.56525350e-04]]))"
      ]
     },
     "execution_count": 4,
     "metadata": {},
     "output_type": "execute_result"
    }
   ],
   "source": [
    "N = 3\n",
    "a = 10000*np.random.random((N,N))\n",
    "b = inv(a)\n",
    "np.max(LA.eig(a)[0]),b"
   ]
  },
  {
   "cell_type": "markdown",
   "id": "1c0814ad-ed21-4e5d-993f-bff1d39acadf",
   "metadata": {},
   "source": [
    "The larger the Hessian Norm, the smaller the inverse Hessian, so smaller step in that direction."
   ]
  },
  {
   "cell_type": "markdown",
   "id": "2a7ce0ce-3bba-4e57-baf8-6992017d55c5",
   "metadata": {},
   "source": [
    "Determinant is product of eigenvalues https://math.berkeley.edu/~chenhi/math54-u15/problem150714.pdf.<br>\n",
    "inv(A) = 1/det(A) . adj(A)<br>\n",
    "\n",
    "Large eigenvalues (sharpness) > large determinant > smaller inverse matrix "
   ]
  },
  {
   "cell_type": "code",
   "execution_count": null,
   "id": "6492f3e1-49c7-4c00-b189-28e802ad8c65",
   "metadata": {},
   "outputs": [],
   "source": []
  }
 ],
 "metadata": {
  "kernelspec": {
   "display_name": "Python 3 (ipykernel)",
   "language": "python",
   "name": "python3"
  },
  "language_info": {
   "codemirror_mode": {
    "name": "ipython",
    "version": 3
   },
   "file_extension": ".py",
   "mimetype": "text/x-python",
   "name": "python",
   "nbconvert_exporter": "python",
   "pygments_lexer": "ipython3",
   "version": "3.8.15"
  }
 },
 "nbformat": 4,
 "nbformat_minor": 5
}