{
 "cells": [
  {
   "cell_type": "markdown",
   "id": "b079e1e2-fb10-4bc2-b599-15d5618b2f06",
   "metadata": {},
   "source": [
    "# iDARTS "
   ]
  },
  {
   "cell_type": "markdown",
   "id": "2a5df0cb-afa2-4d7c-a7d5-4e289347dcaf",
   "metadata": {},
   "source": [
    "Unlike some recent papers that have proposed regularization approaches for the DARTS, the iDARTS {cite:p}`zhang2021idarts` proposes a different way to compute the outer-loop gradient based on the implicit function theorem.<br> \n",
    "\n",
    "The Amended-DARTS {cite:p}`bi2020stabilizing` has actually arrived at the same outer-loop gradient (hypergradient) formula, stating that the gradient approximation in the original DARTS has been inaccurate. {cite:p}`bi2020stabilizing` have replaced the inverse Hessian with the Hessian itself in the formula to make computation more tractable however calculating the Hessian is still costly and it takes more time for the Amended-DARTS to reach optimality. Replacing the inverse Hessian within Hessian is also not a good approximation.\n",
    "\n",
    "The iDARTS on the other hand, approximates the inverse Hessian and thus reduces the computational cost of the Amended-DARTS, as well as provides better results.\n",
    "\n",
    "From the Original DARTS we had: <br>\n",
    "$\\nabla_\\alpha L_{val} (w^*(a),a) \\approx \\nabla_\\alpha L_{val} (w - \\xi \\nabla_w L_{train}(w,\\alpha),a)$ <br>\n",
    "\n",
    "Ideally, we'd want the $w - \\xi \\nabla_w L_{train}(w,\\alpha)$ to be as close to the optimal $w^*(\\alpha)$ as possible however this is very unlikely because as a result of the approximation the weights of the inner loop get updated only once.\n"
   ]
  },
  {
   "cell_type": "markdown",
   "id": "86e027b7-c7b7-4097-b6c7-6c5883847584",
   "metadata": {},
   "source": [
    "However, if indeed $w ' = w - \\xi \\nabla_w L_{train}(w,\\alpha)$ was optimal then we would have the training loss gradient $\\nabla_{w} L_{train}(w^*,\\alpha) = 0$ {cite:p}`zhang2021idarts`"
   ]
  },
  {
   "cell_type": "markdown",
   "id": "09818a51-5470-4042-bbb5-576197e82340",
   "metadata": {},
   "source": [
    "Thus:<br>\n",
    "$ \\nabla^2_{w,\\alpha} L_{train}(w^*,\\alpha) = 0$<br>\n",
    "$ \\nabla_{w} (\\nabla_{\\alpha} L_{train}(w^*,\\alpha)) = 0$<br>\n",
    "$ \\nabla_{w} (\\nabla_{\\alpha} L_{train}(w^*,\\alpha) + \\nabla_{w} L_{train}(w^*,\\alpha). \\nabla_{\\alpha} w) = 0$<br>\n",
    "$ \\nabla^2_{w,\\alpha} L_{train}(w^*,\\alpha) + \\nabla^2_{w,w} L_{train}(w^*,\\alpha). \\nabla_{\\alpha} w = 0$<br>\n",
    "$\\nabla_{\\alpha} w = - \\big[\\nabla^2_{w,w} L_{train}(w^*,\\alpha)   \\big]^{-1} . \\nabla^2_{w,\\alpha} L_{train}(w^*,\\alpha)$<br>"
   ]
  },
  {
   "cell_type": "markdown",
   "id": "b81d9c64-0998-4215-a568-f56e6f574398",
   "metadata": {},
   "source": [
    "Because the inverse Hessian of the training loss w.r.t the weights is expensive to compute the authors have proposed to use the Neumann approximation approach {cite:p} `DBLP:journals/corr/abs-1911-02590`\n",
    "computed based on mini-batch samples. "
   ]
  },
  {
   "cell_type": "markdown",
   "id": "68ebd635-4c1f-4750-8666-187bc9de87c4",
   "metadata": {},
   "source": [
    "$\\big[\\nabla^2_{w,w} L_{train}(w^*,\\alpha)   \\big]^{-1} = \\underset{i \\to \\infty}{lim} \\overset{i}{\\underset{j=0}{\\sum}} \\big[ I - \\nabla^2_{w,w} L_{train}(w^*,\\alpha) \\big]^j    $"
   ]
  },
  {
   "cell_type": "markdown",
   "id": "8a3f8f55-4b17-48cc-9a7d-b11c67087fb3",
   "metadata": {},
   "source": [
    "By using only the first K terms of the Neumann series:<br>\n",
    "$\\nabla_\\alpha L_{val} (w',a) \\approx \\nabla_\\alpha L_{val} (w' ,a) - \\xi \\nabla^2_{w\\alpha} L_{train}(w,\\alpha). \\overset{K}{\\underset{j=0}{\\sum}} \\big[ I - \\xi \\nabla^2_{w,w} L_{train}(w^*,\\alpha) \\big]^j  . \\nabla_{w'} L_{val}(w',\\alpha) \\ \\ \\ \\ $<br>"
   ]
  },
  {
   "cell_type": "code",
   "execution_count": null,
   "id": "c3428740-52b3-435d-817c-69dd5806201d",
   "metadata": {},
   "outputs": [],
   "source": []
  }
 ],
 "metadata": {
  "kernelspec": {
   "display_name": "Python 3 (ipykernel)",
   "language": "python",
   "name": "python3"
  },
  "language_info": {
   "codemirror_mode": {
    "name": "ipython",
    "version": 3
   },
   "file_extension": ".py",
   "mimetype": "text/x-python",
   "name": "python",
   "nbconvert_exporter": "python",
   "pygments_lexer": "ipython3",
   "version": "3.8.15"
  }
 },
 "nbformat": 4,
 "nbformat_minor": 5
}