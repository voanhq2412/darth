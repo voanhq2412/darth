{
 "cells": [
  {
   "cell_type": "markdown",
   "id": "365631ea-a04d-4d18-9111-87f189e92850",
   "metadata": {},
   "source": [
    "# R-DARTS"
   ]
  },
  {
   "cell_type": "markdown",
   "id": "808af628-bbbf-4e56-af30-5b07f1ce68e5",
   "metadata": {},
   "source": [
    "Whereas the iDARTS {cite:p}`zhang2021idarts` includes an extra inverse Hessian (w.r.t the weights) term to obtain a more 'accurate' update on the architecture parameters (via $\\nabla_\\alpha L_{val}$), the R-DARTS {cite:p}`DBLP:journals/corr/abs-1909-09656`  attempts to analyze the Hessian of the architecture parameters ($\\nabla^2_{\\alpha \\alpha} L_{val}$) to see how this correlates with the performance drop.\n",
    "\n",
    "The authors argue that the DARTS do not generalize well because when training the architecture parameter $\\alpha$ the model will settle on a sharp local minima; and a sharp minima doesn't generalize as well as a flat minima. The author found a strong correlation between the dominant eigenvalue of the Hessian $\\nabla^2_{\\alpha \\alpha} L_{val}$ (an indicator of sharpness) and the test error.\n",
    "\n",
    "Furthermore, the authors hypothesize that one reason for the performance drop is due the discretization of the continuous architecture parameter $\\alpha^*$. Because $\\alpha^*$ lies in a very sharp region, discretizing it could lead to a significantly worse loss function value. This is less likely in the case of flat minimas. The author investigated this and found that high curvature did in fact lead to large performance drops.\n",
    "\n",
    "However, the author proposed an early stopping rule by keeping track of the last few Hessian eigenvalues. Computing the Hessian and obtaining the eigenvalues will incur additional computational resource, even more so than the second-order DARTS.\n"
   ]
  },
  {
   "cell_type": "code",
   "execution_count": null,
   "id": "c75e2152-2543-4d92-a64e-a79375c15f02",
   "metadata": {},
   "outputs": [],
   "source": []
  }
 ],
 "metadata": {
  "kernelspec": {
   "display_name": "Python 3 (ipykernel)",
   "language": "python",
   "name": "python3"
  },
  "language_info": {
   "codemirror_mode": {
    "name": "ipython",
    "version": 3
   },
   "file_extension": ".py",
   "mimetype": "text/x-python",
   "name": "python",
   "nbconvert_exporter": "python",
   "pygments_lexer": "ipython3",
   "version": "3.8.15"
  }
 },
 "nbformat": 4,
 "nbformat_minor": 5
}